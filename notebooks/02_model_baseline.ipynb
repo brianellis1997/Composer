{
 "cells": [
  {
   "cell_type": "markdown",
   "metadata": {},
   "source": [
    "# Baseline Model Testing: SkyTNT MIDI Model\n",
    "\n",
    "This notebook tests the SkyTNT MIDI model on M1 Pro:\n",
    "1. Load pre-trained model from HuggingFace\n",
    "2. Test inference and generation\n",
    "3. Benchmark performance (speed, memory usage)\n",
    "4. Generate sample MIDI files\n",
    "5. Assess output quality\n",
    "\n",
    "**Hardware**: Apple M1 Pro with MPS (Metal Performance Shaders) support"
   ]
  },
  {
   "cell_type": "code",
   "execution_count": null,
   "metadata": {},
   "outputs": [],
   "source": [
    "import sys\n",
    "from pathlib import Path\n",
    "\n",
    "sys.path.append(str(Path.cwd().parent))\n",
    "\n",
    "import torch\n",
    "import numpy as np\n",
    "from transformers import AutoModelForCausalLM, AutoTokenizer\n",
    "import time\n",
    "from datetime import datetime\n",
    "\n",
    "print(f\"PyTorch version: {torch.__version__}\")\n",
    "print(f\"MPS available: {torch.backends.mps.is_available()}\")\n",
    "print(f\"MPS built: {torch.backends.mps.is_built()}\")"
   ]
  },
  {
   "cell_type": "markdown",
   "metadata": {},
   "source": [
    "## 1. Device Setup\n",
    "\n",
    "Configure device for M1 Pro GPU (MPS)."
   ]
  },
  {
   "cell_type": "code",
   "execution_count": null,
   "metadata": {},
   "outputs": [],
   "source": [
    "if torch.backends.mps.is_available():\n",
    "    device = torch.device(\"mps\")\n",
    "    print(\"Using MPS (Metal) device for GPU acceleration\")\n",
    "elif torch.cuda.is_available():\n",
    "    device = torch.device(\"cuda\")\n",
    "    print(\"Using CUDA device\")\n",
    "else:\n",
    "    device = torch.device(\"cpu\")\n",
    "    print(\"Using CPU device\")\n",
    "\n",
    "print(f\"\\nDevice: {device}\")"
   ]
  },
  {
   "cell_type": "markdown",
   "metadata": {},
   "source": [
    "## 2. Load SkyTNT MIDI Model\n",
    "\n",
    "Load the pre-trained model from HuggingFace."
   ]
  },
  {
   "cell_type": "code",
   "execution_count": null,
   "metadata": {},
   "outputs": [],
   "source": [
    "model_name = \"skytnt/midi-model\"\n",
    "\n",
    "print(f\"Loading model: {model_name}\\n\")\n",
    "\n",
    "try:\n",
    "    start_time = time.time()\n",
    "    \n",
    "    tokenizer = AutoTokenizer.from_pretrained(model_name)\n",
    "    model = AutoModelForCausalLM.from_pretrained(\n",
    "        model_name,\n",
    "        torch_dtype=torch.float32\n",
    "    )\n",
    "    \n",
    "    model = model.to(device)\n",
    "    model.eval()\n",
    "    \n",
    "    load_time = time.time() - start_time\n",
    "    \n",
    "    print(f\"✓ Model loaded successfully in {load_time:.2f}s\")\n",
    "    print(f\"\\nModel info:\")\n",
    "    print(f\"  Type: {type(model).__name__}\")\n",
    "    print(f\"  Device: {next(model.parameters()).device}\")\n",
    "    print(f\"  Parameters: {sum(p.numel() for p in model.parameters()):,}\")\n",
    "    print(f\"  Trainable parameters: {sum(p.numel() for p in model.parameters() if p.requires_grad):,}\")\n",
    "    \n",
    "except Exception as e:\n",
    "    print(f\"✗ Error loading model: {e}\")\n",
    "    print(\"\\nNote: SkyTNT model may require specific setup or may not be available.\")\n",
    "    print(\"Alternative: We may need to use a different model or train from scratch.\")"
   ]
  },
  {
   "cell_type": "markdown",
   "metadata": {},
   "source": [
    "## 3. Memory Profiling\n",
    "\n",
    "Check memory usage with the model loaded."
   ]
  },
  {
   "cell_type": "code",
   "execution_count": null,
   "metadata": {},
   "outputs": [],
   "source": [
    "if 'model' in locals():\n",
    "    model_memory_mb = sum(p.numel() * p.element_size() for p in model.parameters()) / 1024**2\n",
    "    print(f\"Model memory usage: {model_memory_mb:.2f} MB\")\n",
    "    \n",
    "    if device.type == \"mps\":\n",
    "        print(\"\\nNote: MPS memory stats not directly available\")\n",
    "        print(\"Estimated available for training: ~12-13 GB on M1 Pro 16GB\")"
   ]
  },
  {
   "cell_type": "markdown",
   "metadata": {},
   "source": [
    "## 4. Test Generation\n",
    "\n",
    "Generate a sample MIDI sequence and benchmark performance."
   ]
  },
  {
   "cell_type": "code",
   "execution_count": null,
   "metadata": {},
   "outputs": [],
   "source": [
    "if 'model' in locals() and 'tokenizer' in locals():\n",
    "    print(\"Testing generation...\\n\")\n",
    "    \n",
    "    prompt = \"\" \n",
    "    max_length = 512\n",
    "    \n",
    "    try:\n",
    "        start_time = time.time()\n",
    "        \n",
    "        if prompt:\n",
    "            inputs = tokenizer(prompt, return_tensors=\"pt\").to(device)\n",
    "        else:\n",
    "            inputs = {\"input_ids\": torch.tensor([[tokenizer.bos_token_id]]).to(device)}\n",
    "        \n",
    "        with torch.no_grad():\n",
    "            outputs = model.generate(\n",
    "                **inputs,\n",
    "                max_length=max_length,\n",
    "                num_return_sequences=1,\n",
    "                do_sample=True,\n",
    "                temperature=1.0,\n",
    "                top_k=50,\n",
    "                top_p=0.95\n",
    "            )\n",
    "        \n",
    "        generation_time = time.time() - start_time\n",
    "        \n",
    "        generated_tokens = outputs[0].cpu().numpy()\n",
    "        num_tokens = len(generated_tokens)\n",
    "        tokens_per_second = num_tokens / generation_time\n",
    "        \n",
    "        print(f\"✓ Generation successful!\")\n",
    "        print(f\"  Tokens generated: {num_tokens}\")\n",
    "        print(f\"  Time: {generation_time:.2f}s\")\n",
    "        print(f\"  Speed: {tokens_per_second:.2f} tokens/second\")\n",
    "        \n",
    "        print(f\"\\nGenerated token sequence (first 50):\")\n",
    "        print(generated_tokens[:50])\n",
    "        \n",
    "    except Exception as e:\n",
    "        print(f\"✗ Generation failed: {e}\")\n",
    "        import traceback\n",
    "        traceback.print_exc()"
   ]
  },
  {
   "cell_type": "markdown",
   "metadata": {},
   "source": [
    "## 5. Convert to MIDI (if applicable)\n",
    "\n",
    "Attempt to convert generated tokens to MIDI file."
   ]
  },
  {
   "cell_type": "code",
   "execution_count": null,
   "metadata": {},
   "outputs": [],
   "source": [
    "if 'generated_tokens' in locals():\n",
    "    print(\"Token-to-MIDI conversion depends on model's tokenization scheme.\")\n",
    "    print(\"This step may require model-specific decoding logic.\")\n",
    "    print(\"\\nNext steps:\")\n",
    "    print(\"1. Study SkyTNT's tokenization format\")\n",
    "    print(\"2. Implement custom decoder\")\n",
    "    print(\"3. Save as .mid file for playback\")"
   ]
  },
  {
   "cell_type": "markdown",
   "metadata": {},
   "source": [
    "## 6. Benchmark Summary\n",
    "\n",
    "Summarize M1 Pro performance."
   ]
  },
  {
   "cell_type": "code",
   "execution_count": null,
   "metadata": {},
   "outputs": [],
   "source": [
    "print(\"=\" * 60)\n",
    "print(\"M1 Pro Benchmark Summary\")\n",
    "print(\"=\" * 60)\n",
    "\n",
    "if 'load_time' in locals():\n",
    "    print(f\"\\n✓ Model loading: {load_time:.2f}s\")\n",
    "\n",
    "if 'model_memory_mb' in locals():\n",
    "    print(f\"✓ Model memory: {model_memory_mb:.2f} MB\")\n",
    "\n",
    "if 'tokens_per_second' in locals():\n",
    "    print(f\"✓ Generation speed: {tokens_per_second:.2f} tokens/s\")\n",
    "    print(f\"✓ Est. time for 2000 tokens: {2000/tokens_per_second:.1f}s\")\n",
    "\n",
    "print(\"\\n\" + \"=\" * 60)\n",
    "print(\"Assessment:\")\n",
    "print(\"=\" * 60)\n",
    "\n",
    "if 'model' in locals():\n",
    "    print(\"\\n✓ M1 Pro can load and run the model\")\n",
    "    print(\"✓ MPS acceleration is working\")\n",
    "    print(\"\\nNext steps:\")\n",
    "    print(\"  1. Test fine-tuning on small dataset\")\n",
    "    print(\"  2. Implement MIDI tokenization/detokenization\")\n",
    "    print(\"  3. Evaluate generation quality\")\n",
    "    print(\"  4. Consider LoRA for efficient fine-tuning\")\n",
    "else:\n",
    "    print(\"\\n✗ Model loading failed\")\n",
    "    print(\"\\nAlternative approaches:\")\n",
    "    print(\"  1. Try different model from HuggingFace\")\n",
    "    print(\"  2. Adapt GPT-2 for music generation\")\n",
    "    print(\"  3. Train custom transformer from scratch\")"
   ]
  },
  {
   "cell_type": "markdown",
   "metadata": {},
   "source": [
    "## 7. Next Steps\n",
    "\n",
    "Based on the results:\n",
    "\n",
    "**If successful**:\n",
    "- Implement MIDI tokenization/detokenization\n",
    "- Fine-tune on Bach dataset\n",
    "- Evaluate generated music quality\n",
    "- Optimize for M1 Pro (gradient accumulation, LoRA)\n",
    "\n",
    "**If model unavailable**:\n",
    "- Search for alternative pre-trained music models\n",
    "- Consider GPT-2 with custom MIDI tokenizer\n",
    "- Build custom transformer architecture\n",
    "\n",
    "**Performance optimization**:\n",
    "- Test mixed precision (fp16)\n",
    "- Implement gradient checkpointing\n",
    "- Try LoRA adapters for fine-tuning"
   ]
  }
 ],
 "metadata": {
  "kernelspec": {
   "display_name": "composer",
   "language": "python",
   "name": "python3"
  },
  "language_info": {
   "codemirror_mode": {
    "name": "ipython",
    "version": 3
   },
   "file_extension": ".py",
   "mimetype": "text/x-python",
   "name": "python",
   "nbconvert_exporter": "python",
   "pygments_lexer": "ipython3",
   "version": "3.12.12"
  }
 },
 "nbformat": 4,
 "nbformat_minor": 4
}
